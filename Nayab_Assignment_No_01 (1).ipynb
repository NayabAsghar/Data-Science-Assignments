{
  "nbformat": 4,
  "nbformat_minor": 0,
  "metadata": {
    "colab": {
      "name": "Nayab Assignment No 01.ipynb",
      "provenance": [],
      "collapsed_sections": []
    },
    "kernelspec": {
      "name": "python3",
      "display_name": "Python 3"
    },
    "language_info": {
      "name": "python"
    }
  },
  "cells": [
    {
      "cell_type": "code",
      "source": [
        "print(\"Twinkle, twinkle, little star,\\n\\t How I Wonder what you are!\\n\\t\\tUp above the world so high,\\n\\t\\t Like a diamond in the sky.\\n Twinkle, twinkle, little star,\\n\\tHow I Wonder What you are\");\n"
      ],
      "metadata": {
        "colab": {
          "base_uri": "https://localhost:8080/"
        },
        "id": "GMS8lxNQmeYk",
        "outputId": "0710d253-19c4-4190-acae-53f64185c46a"
      },
      "execution_count": null,
      "outputs": [
        {
          "output_type": "stream",
          "name": "stdout",
          "text": [
            "Twinkle, twinkle, little star,\n",
            "\t How I Wonder what you are!\n",
            "\t\tUp above the world so high,\n",
            "\t\t Like a diamond in the sky.\n",
            " Twinkle, twinkle, little star,\n",
            "\tHow I Wonder What you are\n"
          ]
        }
      ]
    },
    {
      "cell_type": "code",
      "source": [
        "a = int (input(\"enter the value: \"));\n",
        "b =int (input(\"enter the value: \"));\n",
        "c = a+b;\n",
        "print(int(c));\n"
      ],
      "metadata": {
        "id": "MkuKa4-Tu8JW",
        "colab": {
          "base_uri": "https://localhost:8080/"
        },
        "outputId": "b68676b3-93a8-4e70-cf3c-d7ce3121c3b4"
      },
      "execution_count": 4,
      "outputs": [
        {
          "output_type": "stream",
          "name": "stdout",
          "text": [
            "enter the value: 10\n",
            "enter the value: 2\n",
            "12\n"
          ]
        }
      ]
    },
    {
      "cell_type": "code",
      "source": [
        "firstname = input(\"enter the firstname: \");\n",
        "lastname = input(\"enter the lastname: \");\n",
        "print (lastname +\" \"+firstname);"
      ],
      "metadata": {
        "colab": {
          "base_uri": "https://localhost:8080/"
        },
        "id": "Iu138MeRrvTm",
        "outputId": "f6b61c31-2fc6-4ec2-eda4-b8afbf713f25"
      },
      "execution_count": 6,
      "outputs": [
        {
          "output_type": "stream",
          "name": "stdout",
          "text": [
            "enter the firstname: nayab \n",
            "enter the lastname: asghar\n",
            "asghar nayab \n"
          ]
        }
      ]
    },
    {
      "cell_type": "code",
      "source": [
        "import datetime\n",
        "now = datetime.datetime.now();\n",
        "print(\"current date and time:\");\n",
        "print (now.strftime(\"%y-%m-%d %H:%m:%s\"));"
      ],
      "metadata": {
        "colab": {
          "base_uri": "https://localhost:8080/"
        },
        "id": "on9YFa0-tVs1",
        "outputId": "5f5289a5-0ff7-45ed-8714-5a7eb6c55a0a"
      },
      "execution_count": null,
      "outputs": [
        {
          "output_type": "stream",
          "name": "stdout",
          "text": [
            "current date and time:\n",
            "21-12-31 23:12:1640991682\n"
          ]
        }
      ]
    },
    {
      "cell_type": "code",
      "source": [
        "import math \n",
        "radius = float(input(\"input the radius of a circle:\"));\n",
        "area = float(3.14*radius**2);\n",
        "print(\"area of a circle with radius \" + str(radius) + \"is\" + str(area));\n"
      ],
      "metadata": {
        "colab": {
          "base_uri": "https://localhost:8080/"
        },
        "id": "0NJuQAViuums",
        "outputId": "e847600b-6ed2-459b-f6ed-3b80b4427d3b"
      },
      "execution_count": 9,
      "outputs": [
        {
          "output_type": "stream",
          "name": "stdout",
          "text": [
            "input the radius of a circle:12\n",
            "area of a circle with radius 12.0is452.16\n"
          ]
        }
      ]
    },
    {
      "cell_type": "code",
      "source": [
        "import platform\n",
        "print(platform.python_version());\n"
      ],
      "metadata": {
        "colab": {
          "base_uri": "https://localhost:8080/"
        },
        "id": "pPJfALDhgdXG",
        "outputId": "29972a48-05d6-4ab2-b1cf-07a6de43f352"
      },
      "execution_count": 12,
      "outputs": [
        {
          "output_type": "stream",
          "name": "stdout",
          "text": [
            "3.7.12\n"
          ]
        }
      ]
    },
    {
      "cell_type": "markdown",
      "source": [
        ""
      ],
      "metadata": {
        "id": "fIziJ-26ruqO"
      }
    }
  ]
}